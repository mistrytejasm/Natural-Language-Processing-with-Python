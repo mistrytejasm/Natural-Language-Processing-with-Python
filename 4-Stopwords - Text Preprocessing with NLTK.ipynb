{
 "cells": [
  {
   "cell_type": "markdown",
   "metadata": {},
   "source": [
    "#### Stopwords"
   ]
  },
  {
   "cell_type": "markdown",
   "metadata": {},
   "source": [
    "\n",
    "Stopwords are common words in a language that are often filtered out during natural language processing tasks because they typically don't carry significant meaning on their own. These words include articles (e.g., \"a,\" \"an,\" \"the\"), conjunctions (e.g., \"and,\" \"but,\" \"or\"), prepositions (e.g., \"in,\" \"on,\" \"at\"), and other frequently occurring words (e.g., \"is,\" \"are,\" \"to\").\n",
    "\n",
    "In natural language processing (NLP), stopwords are often removed from text data before analysis or processing to improve the efficiency and accuracy of algorithms. By removing stopwords, we focus on the important words that convey the main meaning of the text.\n",
    "\n",
    "NLTK (Natural Language Toolkit) provides a predefined list of stopwords for various languages, which can be used to filter out these common words from text data. This filtering process is often performed as a preprocessing step before tasks like text classification, sentiment analysis, or information retrieval."
   ]
  },
  {
   "cell_type": "code",
   "execution_count": 1,
   "metadata": {},
   "outputs": [],
   "source": [
    "## Speech Of DR APJ Abdul Kalam\n",
    "paragraph = \"\"\"\n",
    "I envision three paths for India's future. Over our 3000-year history, numerous civilizations have invaded our land, imposing their rule and ideologies. Despite this, we have refrained from imposing our will on others, respecting their freedom.\n",
    "\n",
    "My first vision is centered around preserving this freedom. Our struggle for independence in 1857 marked the beginning of our journey towards this ideal. It is imperative that we safeguard and nurture this freedom, as it is the cornerstone of our identity and dignity.\n",
    "\n",
    "Moving forward, I envision India as a developed nation. Despite being one of the top five economies globally, we have hesitated to recognize our potential. It is time to shed this doubt and embrace our status as a developed, self-reliant nation.\n",
    "\n",
    "Lastly, I believe India must assert itself on the global stage. Only by demonstrating strength—both militarily and economically—will we earn respect from the international community. I draw inspiration from the remarkable individuals I have had the privilege to work with, such as Dr. Vikram Sarabhai, Professor Satish Dhawan, and Dr. Brahm Prakash, who have shaped my perspective on leadership and progress.\"\"\""
   ]
  },
  {
   "cell_type": "code",
   "execution_count": 2,
   "metadata": {},
   "outputs": [],
   "source": [
    "from nltk.stem import PorterStemmer"
   ]
  },
  {
   "cell_type": "code",
   "execution_count": 3,
   "metadata": {},
   "outputs": [],
   "source": [
    "from nltk.corpus import stopwords"
   ]
  },
  {
   "cell_type": "code",
   "execution_count": 4,
   "metadata": {},
   "outputs": [
    {
     "name": "stderr",
     "output_type": "stream",
     "text": [
      "[nltk_data] Downloading package stopwords to\n",
      "[nltk_data]     C:\\Users\\mistr\\AppData\\Roaming\\nltk_data...\n",
      "[nltk_data]   Package stopwords is already up-to-date!\n"
     ]
    },
    {
     "data": {
      "text/plain": [
       "True"
      ]
     },
     "execution_count": 4,
     "metadata": {},
     "output_type": "execute_result"
    }
   ],
   "source": [
    "import nltk\n",
    "nltk.download(\"stopwords\")"
   ]
  },
  {
   "cell_type": "code",
   "execution_count": 5,
   "metadata": {},
   "outputs": [
    {
     "data": {
      "text/plain": [
       "['i',\n",
       " 'me',\n",
       " 'my',\n",
       " 'myself',\n",
       " 'we',\n",
       " 'our',\n",
       " 'ours',\n",
       " 'ourselves',\n",
       " 'you',\n",
       " \"you're\",\n",
       " \"you've\",\n",
       " \"you'll\",\n",
       " \"you'd\",\n",
       " 'your',\n",
       " 'yours',\n",
       " 'yourself',\n",
       " 'yourselves',\n",
       " 'he',\n",
       " 'him',\n",
       " 'his',\n",
       " 'himself',\n",
       " 'she',\n",
       " \"she's\",\n",
       " 'her',\n",
       " 'hers',\n",
       " 'herself',\n",
       " 'it',\n",
       " \"it's\",\n",
       " 'its',\n",
       " 'itself',\n",
       " 'they',\n",
       " 'them',\n",
       " 'their',\n",
       " 'theirs',\n",
       " 'themselves',\n",
       " 'what',\n",
       " 'which',\n",
       " 'who',\n",
       " 'whom',\n",
       " 'this',\n",
       " 'that',\n",
       " \"that'll\",\n",
       " 'these',\n",
       " 'those',\n",
       " 'am',\n",
       " 'is',\n",
       " 'are',\n",
       " 'was',\n",
       " 'were',\n",
       " 'be',\n",
       " 'been',\n",
       " 'being',\n",
       " 'have',\n",
       " 'has',\n",
       " 'had',\n",
       " 'having',\n",
       " 'do',\n",
       " 'does',\n",
       " 'did',\n",
       " 'doing',\n",
       " 'a',\n",
       " 'an',\n",
       " 'the',\n",
       " 'and',\n",
       " 'but',\n",
       " 'if',\n",
       " 'or',\n",
       " 'because',\n",
       " 'as',\n",
       " 'until',\n",
       " 'while',\n",
       " 'of',\n",
       " 'at',\n",
       " 'by',\n",
       " 'for',\n",
       " 'with',\n",
       " 'about',\n",
       " 'against',\n",
       " 'between',\n",
       " 'into',\n",
       " 'through',\n",
       " 'during',\n",
       " 'before',\n",
       " 'after',\n",
       " 'above',\n",
       " 'below',\n",
       " 'to',\n",
       " 'from',\n",
       " 'up',\n",
       " 'down',\n",
       " 'in',\n",
       " 'out',\n",
       " 'on',\n",
       " 'off',\n",
       " 'over',\n",
       " 'under',\n",
       " 'again',\n",
       " 'further',\n",
       " 'then',\n",
       " 'once',\n",
       " 'here',\n",
       " 'there',\n",
       " 'when',\n",
       " 'where',\n",
       " 'why',\n",
       " 'how',\n",
       " 'all',\n",
       " 'any',\n",
       " 'both',\n",
       " 'each',\n",
       " 'few',\n",
       " 'more',\n",
       " 'most',\n",
       " 'other',\n",
       " 'some',\n",
       " 'such',\n",
       " 'no',\n",
       " 'nor',\n",
       " 'not',\n",
       " 'only',\n",
       " 'own',\n",
       " 'same',\n",
       " 'so',\n",
       " 'than',\n",
       " 'too',\n",
       " 'very',\n",
       " 's',\n",
       " 't',\n",
       " 'can',\n",
       " 'will',\n",
       " 'just',\n",
       " 'don',\n",
       " \"don't\",\n",
       " 'should',\n",
       " \"should've\",\n",
       " 'now',\n",
       " 'd',\n",
       " 'll',\n",
       " 'm',\n",
       " 'o',\n",
       " 're',\n",
       " 've',\n",
       " 'y',\n",
       " 'ain',\n",
       " 'aren',\n",
       " \"aren't\",\n",
       " 'couldn',\n",
       " \"couldn't\",\n",
       " 'didn',\n",
       " \"didn't\",\n",
       " 'doesn',\n",
       " \"doesn't\",\n",
       " 'hadn',\n",
       " \"hadn't\",\n",
       " 'hasn',\n",
       " \"hasn't\",\n",
       " 'haven',\n",
       " \"haven't\",\n",
       " 'isn',\n",
       " \"isn't\",\n",
       " 'ma',\n",
       " 'mightn',\n",
       " \"mightn't\",\n",
       " 'mustn',\n",
       " \"mustn't\",\n",
       " 'needn',\n",
       " \"needn't\",\n",
       " 'shan',\n",
       " \"shan't\",\n",
       " 'shouldn',\n",
       " \"shouldn't\",\n",
       " 'wasn',\n",
       " \"wasn't\",\n",
       " 'weren',\n",
       " \"weren't\",\n",
       " 'won',\n",
       " \"won't\",\n",
       " 'wouldn',\n",
       " \"wouldn't\"]"
      ]
     },
     "execution_count": 5,
     "metadata": {},
     "output_type": "execute_result"
    }
   ],
   "source": [
    "stopwords.words(\"ENGLISH\")"
   ]
  },
  {
   "cell_type": "code",
   "execution_count": 9,
   "metadata": {},
   "outputs": [],
   "source": [
    "stemmer = PorterStemmer()"
   ]
  },
  {
   "cell_type": "code",
   "execution_count": 10,
   "metadata": {},
   "outputs": [],
   "source": [
    "sentence = nltk.sent_tokenize(paragraph)"
   ]
  },
  {
   "cell_type": "code",
   "execution_count": 12,
   "metadata": {},
   "outputs": [
    {
     "data": {
      "text/plain": [
       "list"
      ]
     },
     "execution_count": 12,
     "metadata": {},
     "output_type": "execute_result"
    }
   ],
   "source": [
    "type(sentence)"
   ]
  },
  {
   "cell_type": "code",
   "execution_count": 15,
   "metadata": {},
   "outputs": [],
   "source": [
    "## Apply Stopwords And Filter And then Apply  PorterStemmer Stemming\n",
    "\n",
    "for i in range(len(sentence)):\n",
    "  words = nltk.word_tokenize(sentence[i])\n",
    "  words = [stemmer.stem(word) for word in words if word not in set(stopwords.words('english'))]\n",
    "  sentence[i] = ' '.join(words) #converting all the list of words into sentence "
   ]
  },
  {
   "cell_type": "code",
   "execution_count": 16,
   "metadata": {},
   "outputs": [
    {
     "data": {
      "text/plain": [
       "[\"i envis three path india 's futur .\",\n",
       " 'over 3000-year histori , numer civil invad land , impos rule ideolog .',\n",
       " 'despit , refrain impos other , respect freedom .',\n",
       " 'my first vision center around preserv freedom .',\n",
       " 'our struggl independ 1857 mark begin journey toward ideal .',\n",
       " 'it imper safeguard nurtur freedom , cornerston ident digniti .',\n",
       " 'move forward , i envis india develop nation .',\n",
       " 'despit one top five economi global , hesit recogn potenti .',\n",
       " 'it time shed doubt embrac statu develop , self-reli nation .',\n",
       " 'lastli , i believ india must assert global stage .',\n",
       " 'onli demonstr strength—both militarili economically—wil earn respect intern commun .',\n",
       " 'i draw inspir remark individu i privileg work , dr. vikram sarabhai , professor satish dhawan , dr. brahm prakash , shape perspect leadership progress .']"
      ]
     },
     "execution_count": 16,
     "metadata": {},
     "output_type": "execute_result"
    }
   ],
   "source": [
    "sentence"
   ]
  },
  {
   "cell_type": "code",
   "execution_count": 18,
   "metadata": {},
   "outputs": [],
   "source": [
    "from nltk.stem import SnowballStemmer\n",
    "snowballstemmer = SnowballStemmer('english')"
   ]
  },
  {
   "cell_type": "code",
   "execution_count": 19,
   "metadata": {},
   "outputs": [],
   "source": [
    "## Apply Stopwords And Filter And then Apply Snowball Stemming\n",
    "\n",
    "for i in range(len(sentence)):\n",
    "  words = nltk.word_tokenize(sentence[i])\n",
    "  words = [snowballstemmer.stem(word) for word in words if word not in set(stopwords.words('english'))]\n",
    "  sentence[i] = ' '.join(words) ##converting all the list of words into sentence "
   ]
  },
  {
   "cell_type": "code",
   "execution_count": 20,
   "metadata": {},
   "outputs": [
    {
     "data": {
      "text/plain": [
       "[\"i envis three path india 's futur .\",\n",
       " 'over 3000-year histori , numer civil invad land , impos rule ideolog .',\n",
       " 'despit , refrain impos other , respect freedom .',\n",
       " 'my first vision center around preserv freedom .',\n",
       " 'our struggl independ 1857 mark begin journey toward ideal .',\n",
       " 'it imper safeguard nurtur freedom , cornerston ident digniti .',\n",
       " 'move forward , i envis india develop nation .',\n",
       " 'despit one top five economi global , hesit recogn potenti .',\n",
       " 'it time shed doubt embrac statu develop , self-reli nation .',\n",
       " 'lastli , i believ india must assert global stage .',\n",
       " 'onli demonstr strength—both militarili economically—wil earn respect intern commun .',\n",
       " 'i draw inspir remark individu i privileg work , dr. vikram sarabhai , professor satish dhawan , dr. brahm prakash , shape perspect leadership progress .']"
      ]
     },
     "execution_count": 20,
     "metadata": {},
     "output_type": "execute_result"
    }
   ],
   "source": [
    "sentence"
   ]
  },
  {
   "cell_type": "code",
   "execution_count": 21,
   "metadata": {},
   "outputs": [],
   "source": [
    "from nltk.stem import WordNetLemmatizer\n",
    "lemmatizer = WordNetLemmatizer()"
   ]
  },
  {
   "cell_type": "code",
   "execution_count": 28,
   "metadata": {},
   "outputs": [],
   "source": [
    "for i in range(len(sentence)):\n",
    "  words = nltk.word_tokenize(sentence[i])\n",
    "  words = [lemmatizer.lemmatize(word.lower(),pos='v') for word in words if word not in set(stopwords.words('english'))]\n",
    "  sentence[i] = ' '.join(words) "
   ]
  },
  {
   "cell_type": "code",
   "execution_count": 23,
   "metadata": {},
   "outputs": [
    {
     "data": {
      "text/plain": [
       "[\"envis three path india 's futur .\",\n",
       " '3000-year histori , numer civil invad land , impos rule ideolog .',\n",
       " 'despit , refrain impos , respect freedom .',\n",
       " 'first vision center around preserv freedom .',\n",
       " 'struggl independ 1857 mark begin journey toward ideal .',\n",
       " 'imper safeguard nurtur freedom , cornerston ident digniti .',\n",
       " 'move forward , envis india develop nation .',\n",
       " 'despit one top five economi global , hesit recogn potenti .',\n",
       " 'time shed doubt embrac statu develop , self-reli nation .',\n",
       " 'lastli , believ india must assert global stage .',\n",
       " 'onli demonstr strength—both militarili economically—wil earn respect intern commun .',\n",
       " 'draw inspir remark individu privileg work , dr. vikram sarabhai , professor satish dhawan , dr. brahm prakash , shape perspect leadership progress .']"
      ]
     },
     "execution_count": 23,
     "metadata": {},
     "output_type": "execute_result"
    }
   ],
   "source": [
    "sentence"
   ]
  },
  {
   "cell_type": "code",
   "execution_count": null,
   "metadata": {},
   "outputs": [],
   "source": []
  }
 ],
 "metadata": {
  "kernelspec": {
   "display_name": "Python 3",
   "language": "python",
   "name": "python3"
  },
  "language_info": {
   "codemirror_mode": {
    "name": "ipython",
    "version": 3
   },
   "file_extension": ".py",
   "mimetype": "text/x-python",
   "name": "python",
   "nbconvert_exporter": "python",
   "pygments_lexer": "ipython3",
   "version": "3.12.2"
  }
 },
 "nbformat": 4,
 "nbformat_minor": 2
}

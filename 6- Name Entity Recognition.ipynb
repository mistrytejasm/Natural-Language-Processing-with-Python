{
 "cells": [
  {
   "cell_type": "markdown",
   "metadata": {},
   "source": [
    "#### Name Entity Recognition"
   ]
  },
  {
   "cell_type": "markdown",
   "metadata": {},
   "source": [
    "Named Entity Recognition (NER) is a natural language processing (NLP) task that involves identifying and classifying named entities (such as names of people, organizations, locations, dates, etc.) in text data.\n",
    "\n",
    "The goal of NER is to identify the entities mentioned in the text and classify them into predefined categories, such as person names, organization names, locations, dates, monetary values, and more.\n",
    "\n",
    "Here's how NER typically works:\n",
    "\n",
    "1. **Tokenization**: The input text is split into individual words or tokens.\n",
    "\n",
    "2. **Part-of-Speech (POS) Tagging**: Each token is assigned a part-of-speech tag (noun, verb, adjective, etc.).\n",
    "\n",
    "3. **Named Entity Recognition**: Using various techniques such as rule-based systems, machine learning algorithms (e.g., Conditional Random Fields, Bidirectional LSTMs), or deep learning models (e.g., Transformer-based models like BERT), the system identifies and classifies named entities in the text.\n",
    "\n",
    "4. **Classification**: The identified entities are classified into predefined categories such as person names, organization names, locations, etc.\n",
    "\n",
    "5. **Post-processing**: The output of the NER system may undergo post-processing steps such as filtering, normalization, or linking to external databases to enhance the accuracy and usability of the results.\n",
    "\n",
    "NER is a crucial component in many NLP applications such as information extraction, question answering, document summarization, and sentiment analysis. It enables machines to understand and extract valuable information from unstructured text data, facilitating more advanced and intelligent text processing tasks."
   ]
  },
  {
   "cell_type": "code",
   "execution_count": 1,
   "metadata": {},
   "outputs": [],
   "source": [
    "sentence=\"The Eiffel Tower was built from 1887 to 1889 by Gustave Eiffel, whose company specialized in building metal frameworks and structures.\"\n"
   ]
  },
  {
   "cell_type": "code",
   "execution_count": 2,
   "metadata": {},
   "outputs": [],
   "source": [
    "import nltk\n",
    "words = nltk.word_tokenize(sentence)"
   ]
  },
  {
   "cell_type": "code",
   "execution_count": 3,
   "metadata": {},
   "outputs": [],
   "source": [
    "teg_elements = nltk.pos_tag(words) "
   ]
  },
  {
   "cell_type": "code",
   "execution_count": 4,
   "metadata": {},
   "outputs": [
    {
     "name": "stderr",
     "output_type": "stream",
     "text": [
      "[nltk_data] Error loading mexent_ne_chunker: Package\n",
      "[nltk_data]     'mexent_ne_chunker' not found in index\n"
     ]
    },
    {
     "data": {
      "text/plain": [
       "False"
      ]
     },
     "execution_count": 4,
     "metadata": {},
     "output_type": "execute_result"
    }
   ],
   "source": [
    "nltk.download('mexent_ne_chunker')"
   ]
  },
  {
   "cell_type": "code",
   "execution_count": 5,
   "metadata": {},
   "outputs": [
    {
     "name": "stderr",
     "output_type": "stream",
     "text": [
      "[nltk_data] Downloading package words to\n",
      "[nltk_data]     C:\\Users\\mistr\\AppData\\Roaming\\nltk_data...\n",
      "[nltk_data]   Package words is already up-to-date!\n"
     ]
    },
    {
     "data": {
      "text/plain": [
       "True"
      ]
     },
     "execution_count": 5,
     "metadata": {},
     "output_type": "execute_result"
    }
   ],
   "source": [
    "import nltk\n",
    "nltk.download('words')"
   ]
  },
  {
   "cell_type": "code",
   "execution_count": 7,
   "metadata": {},
   "outputs": [],
   "source": [
    "nltk.ne_chunk(teg_elements).draw()"
   ]
  },
  {
   "cell_type": "code",
   "execution_count": null,
   "metadata": {},
   "outputs": [],
   "source": []
  }
 ],
 "metadata": {
  "kernelspec": {
   "display_name": "Python 3",
   "language": "python",
   "name": "python3"
  },
  "language_info": {
   "codemirror_mode": {
    "name": "ipython",
    "version": 3
   },
   "file_extension": ".py",
   "mimetype": "text/x-python",
   "name": "python",
   "nbconvert_exporter": "python",
   "pygments_lexer": "ipython3",
   "version": "3.12.2"
  }
 },
 "nbformat": 4,
 "nbformat_minor": 2
}

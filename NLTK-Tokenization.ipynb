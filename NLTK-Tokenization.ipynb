{
 "cells": [
  {
   "cell_type": "code",
   "execution_count": 13,
   "metadata": {},
   "outputs": [],
   "source": [
    "# !pip install nltk\n"
   ]
  },
  {
   "cell_type": "code",
   "execution_count": 14,
   "metadata": {},
   "outputs": [],
   "source": [
    "corpus = \"\"\" Once's upon a time, in the realm of Natural Language Processing (NLP), there existed a powerful tool known as NLTK, which stands for Natural Language Toolkit. This tale begins in the early 2000s when Steven Bird and Edward Loper set out on a quest to create a library that would empower linguists, researchers, and developers to explore the depths of human language.\"\"\""
   ]
  },
  {
   "cell_type": "code",
   "execution_count": 15,
   "metadata": {},
   "outputs": [
    {
     "name": "stdout",
     "output_type": "stream",
     "text": [
      " Once's upon a time, in the realm of Natural Language Processing (NLP), there existed a powerful tool known as NLTK, which stands for Natural Language Toolkit. This tale begins in the early 2000s when Steven Bird and Edward Loper set out on a quest to create a library that would empower linguists, researchers, and developers to explore the depths of human language.\n"
     ]
    }
   ],
   "source": [
    "print(corpus)"
   ]
  },
  {
   "cell_type": "code",
   "execution_count": 16,
   "metadata": {},
   "outputs": [],
   "source": [
    "## Sentance Tokenization\n",
    "## sentance --> paragraphs\n",
    "from nltk.tokenize import sent_tokenize"
   ]
  },
  {
   "cell_type": "code",
   "execution_count": 17,
   "metadata": {},
   "outputs": [],
   "source": [
    "document = sent_tokenize(corpus)"
   ]
  },
  {
   "cell_type": "code",
   "execution_count": 18,
   "metadata": {},
   "outputs": [
    {
     "data": {
      "text/plain": [
       "list"
      ]
     },
     "execution_count": 18,
     "metadata": {},
     "output_type": "execute_result"
    }
   ],
   "source": [
    "type(document)"
   ]
  },
  {
   "cell_type": "code",
   "execution_count": 19,
   "metadata": {},
   "outputs": [
    {
     "name": "stdout",
     "output_type": "stream",
     "text": [
      " Once's upon a time, in the realm of Natural Language Processing (NLP), there existed a powerful tool known as NLTK, which stands for Natural Language Toolkit.\n",
      "This tale begins in the early 2000s when Steven Bird and Edward Loper set out on a quest to create a library that would empower linguists, researchers, and developers to explore the depths of human language.\n"
     ]
    }
   ],
   "source": [
    "for sentance in document:\n",
    "  print(sentance)"
   ]
  },
  {
   "cell_type": "code",
   "execution_count": 20,
   "metadata": {},
   "outputs": [],
   "source": [
    "## Word Tokenization\n",
    "## sentance(paragraph) --> Words\n",
    "\n",
    "from nltk.tokenize import word_tokenize"
   ]
  },
  {
   "cell_type": "code",
   "execution_count": 21,
   "metadata": {},
   "outputs": [
    {
     "data": {
      "text/plain": [
       "['Once',\n",
       " \"'s\",\n",
       " 'upon',\n",
       " 'a',\n",
       " 'time',\n",
       " ',',\n",
       " 'in',\n",
       " 'the',\n",
       " 'realm',\n",
       " 'of',\n",
       " 'Natural',\n",
       " 'Language',\n",
       " 'Processing',\n",
       " '(',\n",
       " 'NLP',\n",
       " ')',\n",
       " ',',\n",
       " 'there',\n",
       " 'existed',\n",
       " 'a',\n",
       " 'powerful',\n",
       " 'tool',\n",
       " 'known',\n",
       " 'as',\n",
       " 'NLTK',\n",
       " ',',\n",
       " 'which',\n",
       " 'stands',\n",
       " 'for',\n",
       " 'Natural',\n",
       " 'Language',\n",
       " 'Toolkit',\n",
       " '.',\n",
       " 'This',\n",
       " 'tale',\n",
       " 'begins',\n",
       " 'in',\n",
       " 'the',\n",
       " 'early',\n",
       " '2000s',\n",
       " 'when',\n",
       " 'Steven',\n",
       " 'Bird',\n",
       " 'and',\n",
       " 'Edward',\n",
       " 'Loper',\n",
       " 'set',\n",
       " 'out',\n",
       " 'on',\n",
       " 'a',\n",
       " 'quest',\n",
       " 'to',\n",
       " 'create',\n",
       " 'a',\n",
       " 'library',\n",
       " 'that',\n",
       " 'would',\n",
       " 'empower',\n",
       " 'linguists',\n",
       " ',',\n",
       " 'researchers',\n",
       " ',',\n",
       " 'and',\n",
       " 'developers',\n",
       " 'to',\n",
       " 'explore',\n",
       " 'the',\n",
       " 'depths',\n",
       " 'of',\n",
       " 'human',\n",
       " 'language',\n",
       " '.']"
      ]
     },
     "execution_count": 21,
     "metadata": {},
     "output_type": "execute_result"
    }
   ],
   "source": [
    "word_tokenize(corpus)"
   ]
  },
  {
   "cell_type": "code",
   "execution_count": 22,
   "metadata": {},
   "outputs": [
    {
     "name": "stdout",
     "output_type": "stream",
     "text": [
      "['Once', \"'s\", 'upon', 'a', 'time', ',', 'in', 'the', 'realm', 'of', 'Natural', 'Language', 'Processing', '(', 'NLP', ')', ',', 'there', 'existed', 'a', 'powerful', 'tool', 'known', 'as', 'NLTK', ',', 'which', 'stands', 'for', 'Natural', 'Language', 'Toolkit', '.']\n",
      "['This', 'tale', 'begins', 'in', 'the', 'early', '2000s', 'when', 'Steven', 'Bird', 'and', 'Edward', 'Loper', 'set', 'out', 'on', 'a', 'quest', 'to', 'create', 'a', 'library', 'that', 'would', 'empower', 'linguists', ',', 'researchers', ',', 'and', 'developers', 'to', 'explore', 'the', 'depths', 'of', 'human', 'language', '.']\n"
     ]
    }
   ],
   "source": [
    "for sentance in document:\n",
    "  print(word_tokenize(sentance))\n"
   ]
  },
  {
   "cell_type": "code",
   "execution_count": 23,
   "metadata": {},
   "outputs": [],
   "source": [
    "from nltk.tokenize import wordpunct_tokenize\n"
   ]
  },
  {
   "cell_type": "code",
   "execution_count": 24,
   "metadata": {},
   "outputs": [
    {
     "data": {
      "text/plain": [
       "['Once',\n",
       " \"'\",\n",
       " 's',\n",
       " 'upon',\n",
       " 'a',\n",
       " 'time',\n",
       " ',',\n",
       " 'in',\n",
       " 'the',\n",
       " 'realm',\n",
       " 'of',\n",
       " 'Natural',\n",
       " 'Language',\n",
       " 'Processing',\n",
       " '(',\n",
       " 'NLP',\n",
       " '),',\n",
       " 'there',\n",
       " 'existed',\n",
       " 'a',\n",
       " 'powerful',\n",
       " 'tool',\n",
       " 'known',\n",
       " 'as',\n",
       " 'NLTK',\n",
       " ',',\n",
       " 'which',\n",
       " 'stands',\n",
       " 'for',\n",
       " 'Natural',\n",
       " 'Language',\n",
       " 'Toolkit',\n",
       " '.',\n",
       " 'This',\n",
       " 'tale',\n",
       " 'begins',\n",
       " 'in',\n",
       " 'the',\n",
       " 'early',\n",
       " '2000s',\n",
       " 'when',\n",
       " 'Steven',\n",
       " 'Bird',\n",
       " 'and',\n",
       " 'Edward',\n",
       " 'Loper',\n",
       " 'set',\n",
       " 'out',\n",
       " 'on',\n",
       " 'a',\n",
       " 'quest',\n",
       " 'to',\n",
       " 'create',\n",
       " 'a',\n",
       " 'library',\n",
       " 'that',\n",
       " 'would',\n",
       " 'empower',\n",
       " 'linguists',\n",
       " ',',\n",
       " 'researchers',\n",
       " ',',\n",
       " 'and',\n",
       " 'developers',\n",
       " 'to',\n",
       " 'explore',\n",
       " 'the',\n",
       " 'depths',\n",
       " 'of',\n",
       " 'human',\n",
       " 'language',\n",
       " '.']"
      ]
     },
     "execution_count": 24,
     "metadata": {},
     "output_type": "execute_result"
    }
   ],
   "source": [
    "wordpunct_tokenize(corpus)"
   ]
  },
  {
   "cell_type": "code",
   "execution_count": 25,
   "metadata": {},
   "outputs": [],
   "source": [
    "from nltk.tokenize import TreebankWordTokenizer"
   ]
  },
  {
   "cell_type": "code",
   "execution_count": 26,
   "metadata": {},
   "outputs": [],
   "source": [
    "tokenizer = TreebankWordTokenizer()\n"
   ]
  },
  {
   "cell_type": "code",
   "execution_count": 27,
   "metadata": {},
   "outputs": [
    {
     "data": {
      "text/plain": [
       "['Once',\n",
       " \"'s\",\n",
       " 'upon',\n",
       " 'a',\n",
       " 'time',\n",
       " ',',\n",
       " 'in',\n",
       " 'the',\n",
       " 'realm',\n",
       " 'of',\n",
       " 'Natural',\n",
       " 'Language',\n",
       " 'Processing',\n",
       " '(',\n",
       " 'NLP',\n",
       " ')',\n",
       " ',',\n",
       " 'there',\n",
       " 'existed',\n",
       " 'a',\n",
       " 'powerful',\n",
       " 'tool',\n",
       " 'known',\n",
       " 'as',\n",
       " 'NLTK',\n",
       " ',',\n",
       " 'which',\n",
       " 'stands',\n",
       " 'for',\n",
       " 'Natural',\n",
       " 'Language',\n",
       " 'Toolkit.',\n",
       " 'This',\n",
       " 'tale',\n",
       " 'begins',\n",
       " 'in',\n",
       " 'the',\n",
       " 'early',\n",
       " '2000s',\n",
       " 'when',\n",
       " 'Steven',\n",
       " 'Bird',\n",
       " 'and',\n",
       " 'Edward',\n",
       " 'Loper',\n",
       " 'set',\n",
       " 'out',\n",
       " 'on',\n",
       " 'a',\n",
       " 'quest',\n",
       " 'to',\n",
       " 'create',\n",
       " 'a',\n",
       " 'library',\n",
       " 'that',\n",
       " 'would',\n",
       " 'empower',\n",
       " 'linguists',\n",
       " ',',\n",
       " 'researchers',\n",
       " ',',\n",
       " 'and',\n",
       " 'developers',\n",
       " 'to',\n",
       " 'explore',\n",
       " 'the',\n",
       " 'depths',\n",
       " 'of',\n",
       " 'human',\n",
       " 'language',\n",
       " '.']"
      ]
     },
     "execution_count": 27,
     "metadata": {},
     "output_type": "execute_result"
    }
   ],
   "source": [
    "tokenizer.tokenize(corpus)"
   ]
  },
  {
   "cell_type": "code",
   "execution_count": null,
   "metadata": {},
   "outputs": [],
   "source": []
  }
 ],
 "metadata": {
  "kernelspec": {
   "display_name": "Python 3",
   "language": "python",
   "name": "python3"
  },
  "language_info": {
   "codemirror_mode": {
    "name": "ipython",
    "version": 3
   },
   "file_extension": ".py",
   "mimetype": "text/x-python",
   "name": "python",
   "nbconvert_exporter": "python",
   "pygments_lexer": "ipython3",
   "version": "3.12.2"
  }
 },
 "nbformat": 4,
 "nbformat_minor": 2
}

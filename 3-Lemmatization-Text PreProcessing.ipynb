{
 "cells": [
  {
   "cell_type": "markdown",
   "metadata": {},
   "source": [
    "#### Wordnet Lemmatizer"
   ]
  },
  {
   "cell_type": "markdown",
   "metadata": {},
   "source": [
    "The WordNet Lemmatizer is a tool provided by NLTK for reducing words to their base or canonical form, known as the lemma. Unlike stemming, which simply chops off affixes from words, lemmatization takes into account the morphological analysis of the words and returns a valid lemma.\n",
    "\n",
    "NLTk provides WordNetLemmatizer class which is a thin wrapper around the wordnet corpus. This class uses morphy() function to the wordnet corpusReader class to find a lemma.\n",
    "\n",
    "\n",
    "we can use wordnet Lemmatizer for Q&A, chatbots, text summarization"
   ]
  },
  {
   "cell_type": "markdown",
   "metadata": {},
   "source": [
    "**Morphological analysis** is the process of breaking down words into their constituent parts, known as morphemes, and analyzing their structure, form, and meaning within a language. Morphemes are the smallest units of meaning in a language, and they can be divided into two main types: roots and affixes.\n",
    "\n",
    "Here's a simplified explanation of morphological analysis:\n",
    "\n",
    "1. **Roots**: Roots are the core or base components of words that carry the main meaning. For example, in the word \"playful,\" the root is \"play,\" which conveys the idea of engaging in an activity for enjoyment.\n",
    "\n",
    "2. **Affixes**: Affixes are added to roots to modify their meaning or grammatical function. There are two types of affixes: prefixes (added at the beginning of a word) and suffixes (added at the end of a word). For example, in the word \"unhappy,\" the prefix \"un-\" negates the meaning of the root \"happy,\" while in the word \"running,\" the suffix \"-ing\" indicates ongoing action.\n",
    "\n",
    "During morphological analysis, linguists or language processing algorithms examine words to identify their roots, prefixes, suffixes, and any other morphological components. This process helps in understanding how words are formed, their grammatical functions, and their relationships with other words in a language.\n",
    "\n",
    "In natural language processing (NLP), morphological analysis is an essential task for tasks like tokenization, stemming, and lemmatization. It helps in preprocessing text data by reducing words to their basic forms, which aids in tasks like text normalization, information retrieval, and machine translation."
   ]
  },
  {
   "cell_type": "code",
   "execution_count": 13,
   "metadata": {},
   "outputs": [],
   "source": [
    "from nltk.stem import WordNetLemmatizer "
   ]
  },
  {
   "cell_type": "code",
   "execution_count": 14,
   "metadata": {},
   "outputs": [],
   "source": [
    "lemmatizer = WordNetLemmatizer()"
   ]
  },
  {
   "cell_type": "code",
   "execution_count": 15,
   "metadata": {},
   "outputs": [
    {
     "data": {
      "text/plain": [
       "'going'"
      ]
     },
     "execution_count": 15,
     "metadata": {},
     "output_type": "execute_result"
    }
   ],
   "source": [
    "\"\"\"\n",
    "pos - none -n\n",
    "verb - v\n",
    "adjective - a\n",
    "adverb - r\n",
    "\"\"\"\n",
    "\n",
    "lemmatizer.lemmatize(\"going\")"
   ]
  },
  {
   "cell_type": "code",
   "execution_count": 16,
   "metadata": {},
   "outputs": [
    {
     "data": {
      "text/plain": [
       "'going'"
      ]
     },
     "execution_count": 16,
     "metadata": {},
     "output_type": "execute_result"
    }
   ],
   "source": [
    "lemmatizer.lemmatize(\"going\",pos=\"n\")"
   ]
  },
  {
   "cell_type": "code",
   "execution_count": 17,
   "metadata": {},
   "outputs": [
    {
     "data": {
      "text/plain": [
       "'go'"
      ]
     },
     "execution_count": 17,
     "metadata": {},
     "output_type": "execute_result"
    }
   ],
   "source": [
    "lemmatizer.lemmatize(\"going\",pos=\"v\")"
   ]
  },
  {
   "cell_type": "code",
   "execution_count": 18,
   "metadata": {},
   "outputs": [
    {
     "data": {
      "text/plain": [
       "'going'"
      ]
     },
     "execution_count": 18,
     "metadata": {},
     "output_type": "execute_result"
    }
   ],
   "source": [
    "lemmatizer.lemmatize(\"going\",pos=\"a\")"
   ]
  },
  {
   "cell_type": "code",
   "execution_count": 19,
   "metadata": {},
   "outputs": [
    {
     "data": {
      "text/plain": [
       "'going'"
      ]
     },
     "execution_count": 19,
     "metadata": {},
     "output_type": "execute_result"
    }
   ],
   "source": [
    "lemmatizer.lemmatize(\"going\",pos=\"r\")"
   ]
  },
  {
   "cell_type": "code",
   "execution_count": 20,
   "metadata": {},
   "outputs": [],
   "source": [
    "words = [\"eating\",\"eats\",\"eaten\",\"writing\",\"writes\",\"programming\",\"programs\",\"history\",\"running\", \"cats\", \"jumped\", \"faster\", \"quickly\"]"
   ]
  },
  {
   "cell_type": "code",
   "execution_count": 21,
   "metadata": {},
   "outputs": [
    {
     "name": "stdout",
     "output_type": "stream",
     "text": [
      "eating--->eating\n",
      "eats--->eats\n",
      "eaten--->eaten\n",
      "writing--->writing\n",
      "writes--->writes\n",
      "programming--->programming\n",
      "programs--->program\n",
      "history--->history\n",
      "running--->running\n",
      "cats--->cat\n",
      "jumped--->jumped\n",
      "faster--->faster\n",
      "quickly--->quickly\n"
     ]
    }
   ],
   "source": [
    "for word in words:\n",
    "  print(word+\"--->\"+lemmatizer.lemmatize(word))\n"
   ]
  },
  {
   "cell_type": "code",
   "execution_count": 23,
   "metadata": {},
   "outputs": [
    {
     "name": "stdout",
     "output_type": "stream",
     "text": [
      "eating--->eat\n",
      "eats--->eat\n",
      "eaten--->eat\n",
      "writing--->write\n",
      "writes--->write\n",
      "programming--->program\n",
      "programs--->program\n",
      "history--->history\n",
      "running--->run\n",
      "cats--->cat\n",
      "jumped--->jump\n",
      "faster--->faster\n",
      "quickly--->quickly\n"
     ]
    }
   ],
   "source": [
    "for word in words:\n",
    "  print(word+\"--->\"+lemmatizer.lemmatize(word,pos=\"v\"))"
   ]
  },
  {
   "cell_type": "code",
   "execution_count": 26,
   "metadata": {},
   "outputs": [
    {
     "data": {
      "text/plain": [
       "'go'"
      ]
     },
     "execution_count": 26,
     "metadata": {},
     "output_type": "execute_result"
    }
   ],
   "source": [
    "lemmatizer.lemmatize(\"goes\",pos=\"v\")"
   ]
  },
  {
   "cell_type": "code",
   "execution_count": 27,
   "metadata": {},
   "outputs": [
    {
     "data": {
      "text/plain": [
       "('fairly', 'sportingly')"
      ]
     },
     "execution_count": 27,
     "metadata": {},
     "output_type": "execute_result"
    }
   ],
   "source": [
    "lemmatizer.lemmatize(\"fairly\"),lemmatizer.lemmatize(\"sportingly\")"
   ]
  },
  {
   "cell_type": "code",
   "execution_count": 28,
   "metadata": {},
   "outputs": [
    {
     "data": {
      "text/plain": [
       "('fairly', 'sportingly')"
      ]
     },
     "execution_count": 28,
     "metadata": {},
     "output_type": "execute_result"
    }
   ],
   "source": [
    "lemmatizer.lemmatize(\"fairly\",pos=\"v\"),lemmatizer.lemmatize(\"sportingly\",pos=\"v\")"
   ]
  },
  {
   "cell_type": "code",
   "execution_count": null,
   "metadata": {},
   "outputs": [],
   "source": []
  }
 ],
 "metadata": {
  "kernelspec": {
   "display_name": "Python 3",
   "language": "python",
   "name": "python3"
  },
  "language_info": {
   "codemirror_mode": {
    "name": "ipython",
    "version": 3
   },
   "file_extension": ".py",
   "mimetype": "text/x-python",
   "name": "python",
   "nbconvert_exporter": "python",
   "pygments_lexer": "ipython3",
   "version": "3.12.2"
  }
 },
 "nbformat": 4,
 "nbformat_minor": 2
}

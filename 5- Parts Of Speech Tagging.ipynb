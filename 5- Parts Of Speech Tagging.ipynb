{
 "cells": [
  {
   "cell_type": "markdown",
   "metadata": {},
   "source": [
    "#### Parts Of speech Tagging"
   ]
  },
  {
   "cell_type": "markdown",
   "metadata": {},
   "source": [
    "Parts of speech (POS) tagging is the process of assigning grammatical labels (tags) to words in a sentence based on their syntactic role and relationship to other words in the sentence. These tags represent the lexical category or part of speech of each word, such as noun, verb, adjective, adverb, etc.\n",
    "\n",
    "Here's a brief explanation of some common parts of speech:\n",
    "\n",
    "1. **Noun (NN)**: A word that represents a person, place, thing, or idea. Examples: \"cat,\" \"house,\" \"love.\"\n",
    "\n",
    "2. **Verb (VB)**: A word that expresses an action or state of being. Examples: \"run,\" \"eat,\" \"is.\"\n",
    "\n",
    "3. **Adjective (JJ)**: A word that describes or modifies a noun. Examples: \"red,\" \"happy,\" \"tall.\"\n",
    "\n",
    "4. **Adverb (RB)**: A word that modifies a verb, adjective, or other adverb, often indicating manner, time, place, degree, etc. Examples: \"quickly,\" \"very,\" \"here.\"\n",
    "\n",
    "5. **Pronoun (PRP)**: A word that substitutes for a noun or noun phrase. Examples: \"he,\" \"she,\" \"they.\"\n",
    "\n",
    "6. **Preposition (IN)**: A word that shows the relationship between a noun (or pronoun) and other words in a sentence. Examples: \"in,\" \"on,\" \"at.\"\n",
    "\n",
    "7. **Conjunction (CC)**: A word that connects words, phrases, or clauses. Examples: \"and,\" \"but,\" \"or.\"\n",
    "\n",
    "8. **Interjection (UH)**: A word or phrase that expresses emotion or exclamation. Examples: \"wow,\" \"ouch,\" \"hey.\"\n",
    "\n",
    "POS tagging is a fundamental task in natural language processing (NLP) and is used in various applications such as text analysis, information extraction, machine translation, and sentiment analysis. It helps in understanding the grammatical structure of sentences and extracting valuable insights from text data."
   ]
  },
  {
   "cell_type": "code",
   "execution_count": 28,
   "metadata": {},
   "outputs": [],
   "source": [
    "## Speech Of DR APJ Abdul Kalam\n",
    "paragraph = \"\"\"I envision three paths for India's future. Over our 3000-year history, numerous civilizations have invaded our land, imposing their rule and ideologies. Despite this, we have refrained from imposing our will on others, respecting their freedom.\n",
    "\n",
    "My first vision is centered around preserving this freedom. Our struggle for independence in 1857 marked the beginning of our journey towards this ideal. It is imperative that we safeguard and nurture this freedom, as it is the cornerstone of our identity and dignity.\n",
    "\n",
    "Moving forward, I envision India as a developed nation. Despite being one of the top five economies globally, we have hesitated to recognize our potential. It is time to shed this doubt and embrace our status as a developed, self-reliant nation.\n",
    "\n",
    "Lastly, I believe India must assert itself on the global stage. Only by demonstrating strength—both militarily and economically—will we earn respect from the international community. I draw inspiration from the remarkable individuals I have had the privilege to work with, such as Dr. Vikram Sarabhai, Professor Satish Dhawan, and Dr. Brahm Prakash, who have shaped my perspective on leadership and progress.\"\"\""
   ]
  },
  {
   "cell_type": "code",
   "execution_count": 29,
   "metadata": {},
   "outputs": [],
   "source": [
    "import nltk\n",
    "from nltk.corpus import stopwords\n",
    "sentences = nltk.sent_tokenize(paragraph)"
   ]
  },
  {
   "cell_type": "code",
   "execution_count": 30,
   "metadata": {},
   "outputs": [
    {
     "data": {
      "text/plain": [
       "[\"I envision three paths for India's future.\",\n",
       " 'Over our 3000-year history, numerous civilizations have invaded our land, imposing their rule and ideologies.',\n",
       " 'Despite this, we have refrained from imposing our will on others, respecting their freedom.',\n",
       " 'My first vision is centered around preserving this freedom.',\n",
       " 'Our struggle for independence in 1857 marked the beginning of our journey towards this ideal.',\n",
       " 'It is imperative that we safeguard and nurture this freedom, as it is the cornerstone of our identity and dignity.',\n",
       " 'Moving forward, I envision India as a developed nation.',\n",
       " 'Despite being one of the top five economies globally, we have hesitated to recognize our potential.',\n",
       " 'It is time to shed this doubt and embrace our status as a developed, self-reliant nation.',\n",
       " 'Lastly, I believe India must assert itself on the global stage.',\n",
       " 'Only by demonstrating strength—both militarily and economically—will we earn respect from the international community.',\n",
       " 'I draw inspiration from the remarkable individuals I have had the privilege to work with, such as Dr. Vikram Sarabhai, Professor Satish Dhawan, and Dr. Brahm Prakash, who have shaped my perspective on leadership and progress.']"
      ]
     },
     "execution_count": 30,
     "metadata": {},
     "output_type": "execute_result"
    }
   ],
   "source": [
    "sentences\n"
   ]
  },
  {
   "cell_type": "code",
   "execution_count": 31,
   "metadata": {},
   "outputs": [
    {
     "name": "stderr",
     "output_type": "stream",
     "text": [
      "[nltk_data] Downloading package averaged_perceptron_tagger to\n",
      "[nltk_data]     C:\\Users\\mistr\\AppData\\Roaming\\nltk_data...\n",
      "[nltk_data]   Package averaged_perceptron_tagger is already up-to-\n",
      "[nltk_data]       date!\n"
     ]
    },
    {
     "data": {
      "text/plain": [
       "True"
      ]
     },
     "execution_count": 31,
     "metadata": {},
     "output_type": "execute_result"
    }
   ],
   "source": [
    "nltk.download('averaged_perceptron_tagger')"
   ]
  },
  {
   "cell_type": "code",
   "execution_count": 32,
   "metadata": {},
   "outputs": [
    {
     "name": "stdout",
     "output_type": "stream",
     "text": [
      "[('I', 'PRP'), ('envision', 'VBP'), ('three', 'CD'), ('paths', 'NNS'), ('India', 'NNP'), (\"'s\", 'POS'), ('future', 'NN'), ('.', '.')]\n",
      "[('Over', 'IN'), ('3000-year', 'JJ'), ('history', 'NN'), (',', ','), ('numerous', 'JJ'), ('civilizations', 'NNS'), ('invaded', 'VBD'), ('land', 'NN'), (',', ','), ('imposing', 'VBG'), ('rule', 'NN'), ('ideologies', 'NNS'), ('.', '.')]\n",
      "[('Despite', 'IN'), (',', ','), ('refrained', 'VBD'), ('imposing', 'VBG'), ('others', 'NNS'), (',', ','), ('respecting', 'VBG'), ('freedom', 'NN'), ('.', '.')]\n",
      "[('My', 'PRP$'), ('first', 'JJ'), ('vision', 'NN'), ('centered', 'VBN'), ('around', 'IN'), ('preserving', 'VBG'), ('freedom', 'NN'), ('.', '.')]\n",
      "[('Our', 'PRP$'), ('struggle', 'NN'), ('independence', 'NN'), ('1857', 'CD'), ('marked', 'VBD'), ('beginning', 'VBG'), ('journey', 'NN'), ('towards', 'NNS'), ('ideal', 'NN'), ('.', '.')]\n",
      "[('It', 'PRP'), ('imperative', 'JJ'), ('safeguard', 'JJ'), ('nurture', 'NN'), ('freedom', 'NN'), (',', ','), ('cornerstone', 'NN'), ('identity', 'NN'), ('dignity', 'NN'), ('.', '.')]\n",
      "[('Moving', 'VBG'), ('forward', 'RB'), (',', ','), ('I', 'PRP'), ('envision', 'VBP'), ('India', 'NNP'), ('developed', 'VBD'), ('nation', 'NN'), ('.', '.')]\n",
      "[('Despite', 'IN'), ('one', 'CD'), ('top', 'JJ'), ('five', 'CD'), ('economies', 'NNS'), ('globally', 'RB'), (',', ','), ('hesitated', 'VBD'), ('recognize', 'JJ'), ('potential', 'NN'), ('.', '.')]\n",
      "[('It', 'PRP'), ('time', 'NN'), ('shed', 'VBD'), ('doubt', 'NN'), ('embrace', 'NN'), ('status', 'NN'), ('developed', 'VBD'), (',', ','), ('self-reliant', 'JJ'), ('nation', 'NN'), ('.', '.')]\n",
      "[('Lastly', 'RB'), (',', ','), ('I', 'PRP'), ('believe', 'VBP'), ('India', 'NNP'), ('must', 'MD'), ('assert', 'VB'), ('global', 'JJ'), ('stage', 'NN'), ('.', '.')]\n",
      "[('Only', 'RB'), ('demonstrating', 'VBG'), ('strength—both', 'VBN'), ('militarily', 'RB'), ('economically—will', 'VB'), ('earn', 'JJ'), ('respect', 'JJ'), ('international', 'JJ'), ('community', 'NN'), ('.', '.')]\n",
      "[('I', 'PRP'), ('draw', 'VBP'), ('inspiration', 'NN'), ('remarkable', 'JJ'), ('individuals', 'NNS'), ('I', 'PRP'), ('privilege', 'VBP'), ('work', 'NN'), (',', ','), ('Dr.', 'NNP'), ('Vikram', 'NNP'), ('Sarabhai', 'NNP'), (',', ','), ('Professor', 'NNP'), ('Satish', 'NNP'), ('Dhawan', 'NNP'), (',', ','), ('Dr.', 'NNP'), ('Brahm', 'NNP'), ('Prakash', 'NNP'), (',', ','), ('shaped', 'VBD'), ('perspective', 'JJ'), ('leadership', 'NN'), ('progress', 'NN'), ('.', '.')]\n"
     ]
    }
   ],
   "source": [
    "## we will Find The Pos Tag\n",
    "\n",
    "for i in range(len(sentences)):\n",
    "  words = nltk.word_tokenize(sentences[i])\n",
    "  words = [word for word in words if word not in set(stopwords.words('english'))]\n",
    "  pos_tag = nltk.pos_tag(words)\n",
    "  print(pos_tag)\n",
    " "
   ]
  },
  {
   "cell_type": "code",
   "execution_count": 43,
   "metadata": {},
   "outputs": [
    {
     "name": "stdout",
     "output_type": "stream",
     "text": [
      "[[('Taj', 'NNP'), ('Mahal', 'NNP'), ('is', 'VBZ'), ('a', 'DT'), ('beautiful', 'JJ'), ('Monument', 'NN')]]\n"
     ]
    }
   ],
   "source": [
    "# Tokenize the input string into sentences\n",
    "sentences = nltk.sent_tokenize(\"Taj Mahal is a beautiful Monument\")\n",
    "\n",
    "# Tokenize each sentence into words\n",
    "tokenized_sentence = [nltk.word_tokenize(sentence) for sentence in sentences]\n",
    "\n",
    "# perform POS tagging on the tokenized sentences\n",
    "pos_tagged_sentences = nltk.pos_tag_sents(tokenized_sentence)\n",
    "\n",
    "print(pos_tagged_sentences)"
   ]
  },
  {
   "cell_type": "code",
   "execution_count": 41,
   "metadata": {},
   "outputs": [
    {
     "data": {
      "text/plain": [
       "[('Taj Mahal is a beautiful Monument', 'NN')]"
      ]
     },
     "execution_count": 41,
     "metadata": {},
     "output_type": "execute_result"
    }
   ],
   "source": [
    "nltk.pos_tag([\"Taj Mahal is a beautiful Monument\"])"
   ]
  },
  {
   "cell_type": "code",
   "execution_count": 44,
   "metadata": {},
   "outputs": [
    {
     "data": {
      "text/plain": [
       "['Taj', 'Mahal', 'is', 'a', 'beautiful', 'Monument']"
      ]
     },
     "execution_count": 44,
     "metadata": {},
     "output_type": "execute_result"
    }
   ],
   "source": [
    "\"Taj Mahal is a beautiful Monument\".split()"
   ]
  },
  {
   "cell_type": "code",
   "execution_count": 48,
   "metadata": {},
   "outputs": [
    {
     "name": "stdout",
     "output_type": "stream",
     "text": [
      "[('Taj', 'NNP'), ('Mahal', 'NNP'), ('is', 'VBZ'), ('a', 'DT'), ('beautiful', 'JJ'), ('Monument', 'NN')]\n"
     ]
    }
   ],
   "source": [
    "print(nltk.pos_tag(\"Taj Mahal is a beautiful Monument\".split()))"
   ]
  },
  {
   "cell_type": "code",
   "execution_count": null,
   "metadata": {},
   "outputs": [],
   "source": []
  },
  {
   "cell_type": "code",
   "execution_count": null,
   "metadata": {},
   "outputs": [],
   "source": []
  }
 ],
 "metadata": {
  "kernelspec": {
   "display_name": "Python 3",
   "language": "python",
   "name": "python3"
  },
  "language_info": {
   "codemirror_mode": {
    "name": "ipython",
    "version": 3
   },
   "file_extension": ".py",
   "mimetype": "text/x-python",
   "name": "python",
   "nbconvert_exporter": "python",
   "pygments_lexer": "ipython3",
   "version": "3.12.2"
  }
 },
 "nbformat": 4,
 "nbformat_minor": 2
}
